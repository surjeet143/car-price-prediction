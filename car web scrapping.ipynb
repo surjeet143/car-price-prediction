{
 "cells": [
  {
   "cell_type": "code",
   "execution_count": 1,
   "metadata": {},
   "outputs": [],
   "source": [
    "from selenium import webdriver\n",
    "from selenium.webdriver.common.keys import Keys\n",
    "import pandas as pd\n",
    "from selenium.webdriver.common.action_chains import ActionChains\n",
    "from selenium.webdriver.support.ui import WebDriverWait\n",
    "from selenium.webdriver.common.by import By\n",
    "from selenium.common.exceptions import NoSuchElementException\n",
    "from selenium.common.exceptions import NoSuchWindowException\n",
    "import time\n",
    "from selenium.webdriver.support.ui import Select\n",
    "from selenium.webdriver.support import expected_conditions as EC"
   ]
  },
  {
   "cell_type": "code",
   "execution_count": 3,
   "metadata": {},
   "outputs": [],
   "source": [
    "body_type = [\"hatchback\", 'sedan', 'suv', 'luxury%20sedan', 'luxury%20suv'] \n",
    "city_id = [\"777\", \"1692\",\"769\" , \"6\", \"648\", \"1605\"]\n",
    "city_pin = [\"700001\", \"380001\",\"134101\", \"121001\", \"140604\", \"394101\"]"
   ]
  },
  {
   "cell_type": "code",
   "execution_count": 4,
   "metadata": {},
   "outputs": [
    {
     "name": "stdout",
     "output_type": "stream",
     "text": [
      "https://www.cars24.com/buy-used-car?bodyType=hatchback&sort=P&storeCityId=777&pinId=700001\n",
      "https://www.cars24.com/buy-used-car?bodyType=sedan&sort=P&storeCityId=777&pinId=700001\n",
      "https://www.cars24.com/buy-used-car?bodyType=suv&sort=P&storeCityId=777&pinId=700001\n",
      "https://www.cars24.com/buy-used-car?bodyType=luxury%20sedan&sort=P&storeCityId=777&pinId=700001\n",
      "https://www.cars24.com/buy-used-car?bodyType=luxury%20suv&sort=P&storeCityId=777&pinId=700001\n",
      "https://www.cars24.com/buy-used-car?bodyType=hatchback&sort=P&storeCityId=1692&pinId=380001\n",
      "https://www.cars24.com/buy-used-car?bodyType=sedan&sort=P&storeCityId=1692&pinId=380001\n",
      "https://www.cars24.com/buy-used-car?bodyType=suv&sort=P&storeCityId=1692&pinId=380001\n",
      "https://www.cars24.com/buy-used-car?bodyType=luxury%20sedan&sort=P&storeCityId=1692&pinId=380001\n",
      "https://www.cars24.com/buy-used-car?bodyType=luxury%20suv&sort=P&storeCityId=1692&pinId=380001\n",
      "https://www.cars24.com/buy-used-car?bodyType=hatchback&sort=P&storeCityId=769&pinId=134101\n",
      "https://www.cars24.com/buy-used-car?bodyType=sedan&sort=P&storeCityId=769&pinId=134101\n",
      "https://www.cars24.com/buy-used-car?bodyType=suv&sort=P&storeCityId=769&pinId=134101\n",
      "https://www.cars24.com/buy-used-car?bodyType=luxury%20sedan&sort=P&storeCityId=769&pinId=134101\n",
      "https://www.cars24.com/buy-used-car?bodyType=luxury%20suv&sort=P&storeCityId=769&pinId=134101\n",
      "https://www.cars24.com/buy-used-car?bodyType=hatchback&sort=P&storeCityId=6&pinId=121001\n",
      "https://www.cars24.com/buy-used-car?bodyType=sedan&sort=P&storeCityId=6&pinId=121001\n",
      "https://www.cars24.com/buy-used-car?bodyType=suv&sort=P&storeCityId=6&pinId=121001\n",
      "https://www.cars24.com/buy-used-car?bodyType=luxury%20sedan&sort=P&storeCityId=6&pinId=121001\n",
      "https://www.cars24.com/buy-used-car?bodyType=luxury%20suv&sort=P&storeCityId=6&pinId=121001\n",
      "https://www.cars24.com/buy-used-car?bodyType=hatchback&sort=P&storeCityId=648&pinId=140604\n",
      "https://www.cars24.com/buy-used-car?bodyType=sedan&sort=P&storeCityId=648&pinId=140604\n",
      "https://www.cars24.com/buy-used-car?bodyType=suv&sort=P&storeCityId=648&pinId=140604\n",
      "https://www.cars24.com/buy-used-car?bodyType=luxury%20sedan&sort=P&storeCityId=648&pinId=140604\n",
      "https://www.cars24.com/buy-used-car?bodyType=luxury%20suv&sort=P&storeCityId=648&pinId=140604\n",
      "https://www.cars24.com/buy-used-car?bodyType=hatchback&sort=P&storeCityId=1605&pinId=394101\n",
      "https://www.cars24.com/buy-used-car?bodyType=sedan&sort=P&storeCityId=1605&pinId=394101\n",
      "https://www.cars24.com/buy-used-car?bodyType=suv&sort=P&storeCityId=1605&pinId=394101\n",
      "https://www.cars24.com/buy-used-car?bodyType=luxury%20sedan&sort=P&storeCityId=1605&pinId=394101\n",
      "https://www.cars24.com/buy-used-car?bodyType=luxury%20suv&sort=P&storeCityId=1605&pinId=394101\n"
     ]
    }
   ],
   "source": [
    "# city link genration\n",
    "city_links = []\n",
    "for i in range(len(city_id)):\n",
    "    for bodyType in body_type:\n",
    "        link = \"https://www.cars24.com/buy-used-car?bodyType=\"+bodyType+\"&sort=P&storeCityId=\"+city_id[i]+\"&pinId=\"+city_pin[i]\n",
    "        print(link)\n",
    "        city_links.append(link)"
   ]
  },
  {
   "cell_type": "code",
   "execution_count": 5,
   "metadata": {},
   "outputs": [],
   "source": [
    "driver = webdriver.Chrome('chromedriver')\n",
    "#driver.get(hatchback)"
   ]
  },
  {
   "cell_type": "code",
   "execution_count": 6,
   "metadata": {},
   "outputs": [],
   "source": [
    "# web scraping links for each car for each city and each body type\n",
    "links = []\n",
    "for city_link in city_links:\n",
    "    driver.get(city_link)\n",
    "    time.sleep(3)\n",
    "    for i in range(3):\n",
    "        driver.execute_script(\"window.scrollTo(0,document.body.scrollHeight)\") #scrolling down the page\n",
    "        time.sleep(3)\n",
    "    page = driver.find_elements_by_xpath(\"//div[@class = 'col-4']/a\")\n",
    "    car_links = [page.get_attribute('href') for page in page]\n",
    "    links = links + car_links"
   ]
  },
  {
   "cell_type": "code",
   "execution_count": 301,
   "metadata": {},
   "outputs": [],
   "source": [
    "# saving list of links as text file for future use\n",
    "all_links=open('df_set2.txt', 'w')\n",
    "for i in links:\n",
    "    all_links.write(i+\"\\n\")\n",
    "all_links.close()"
   ]
  },
  {
   "cell_type": "code",
   "execution_count": 4,
   "metadata": {},
   "outputs": [],
   "source": [
    "driver = webdriver.Chrome(\"chromedriver\")"
   ]
  },
  {
   "cell_type": "code",
   "execution_count": 6,
   "metadata": {},
   "outputs": [],
   "source": [
    "#list of the features being collected for each car\n",
    "feat_list = ['Roof', 'Bonnet/Hood', 'Dicky Door/Boot Door', 'Boot Floor', 'Quarter Panel\\nLHS\\nRHS', 'Fender\\nLHS\\nRHS', \n",
    "             'Pillars\\nLHS B\\nLHS A\\nLHS C\\nRHS A\\nRHS B\\nRHS C', 'Apron\\nLHS\\nRHS', 'Firewall', 'Cowl Top', 'Bonnet Patti', \n",
    "             'Lower Cross Member', 'Radiator Support', 'Head Light Support', 'Running Border\\nLHS\\nRHS', \n",
    "             'Doors\\nLHS Front\\nLHS Rear\\nRHS Rear\\nRHS Front', 'Windshield\\nFront\\nRear', 'Pillars\\nLHS A\\nLHS B\\nLHS C\\nRHS A\\nRHS B\\nRHS C',\n",
    "             'Lights\\nLHS Taillight\\nRHS Taillight\\nLHS Headlight\\nRHS Headlight', 'Bumpers\\nFront\\nRear', \n",
    "             'ORVM- Manual/Electric\\nLHS\\nRHS', 'Lights\\nLHS Fog Light\\nLHS Headlight\\nLHS Taillight\\nRHS Fog Light\\nRHS Headlight\\nRHS Taillight',\n",
    "             'Tyre\\nLHS Front Tyre\\nRHS Front Tyre\\nLHS Rear Tyre\\nRHS Rear Tyre\\nSpare Tyre', \n",
    "             'Engine', 'Engine Sound', 'Exhaust Smoke', 'Engine Blow By Back Compression', 'Engine Mounting', \n",
    "             'Clutch', 'Gear Shifting', 'Engine Oil', 'Battery', 'Coolant', 'AC Cooling', 'Heater', \n",
    "             'Music System', 'Leather Seats', 'Steering', 'Suspension', 'Brakes']\n",
    "# feature dictionary\n",
    "feat_dictionary = dict.fromkeys(feat_list, 1)\n",
    "keys = list(feat_dictionary.keys())"
   ]
  },
  {
   "cell_type": "code",
   "execution_count": 8,
   "metadata": {},
   "outputs": [],
   "source": [
    "    \n",
    "def scrap(link):\n",
    "    driver.get(link)\n",
    "    time.sleep(5)\n",
    "    feat_dictionary = dict.fromkeys(feat_list, 0)\n",
    "    feat_dictionary[\"car_id\"] = link.split(\"-\")[-1].replace(\"/\",\"\")\n",
    "    feat_dictionary[\"city\"] = link.split(\"-\")[-2].replace(\"/\",\"\")\n",
    "    data = driver.find_elements_by_xpath(\"//li[@class = 'tHlIu']\")\n",
    "    data = [d.text.split(\"\\n\") for d in data]\n",
    "    for d in data:\n",
    "        if d[0]==\"Insurance\":\n",
    "            feat_dictionary[\"insurance_type\"] = d[-1]\n",
    "            feat_dictionary[\"insurance_valid_m\"] = d[-2].split()[-2]\n",
    "            feat_dictionary[\"insurance_valid_y\"] = d[-2].split()[-1]\n",
    "        if d[0]==\"History\":\n",
    "            feat_dictionary[\"history\"] = d[-1]\n",
    "        if d[0]==\"Owner\":\n",
    "            feat_dictionary[\"owner\"] = int(d[-1][0])\n",
    "        if d[0]==\"Kilometers Driven\":\n",
    "            feat_dictionary[\"kilometers_driven\"] = int(d[-1].replace(\"km\",\"\").replace(\",\",\"\"))\n",
    "        if d[0] == \"Fuel Type\":\n",
    "            feat_dictionary[\"Fuel Type\"] = d[-1]\n",
    "        if d[0] == \"Transmission\":\n",
    "            feat_dictionary[\"Transmission\"]=(d[-1])\n",
    "        if d[0] == \"Year of Purchase\":\n",
    "            feat_dictionary[\"Year of Purchase\"] = (d[-1].split()[-1])\n",
    "        price = int(driver.find_element_by_xpath(\"//li[@class = '_2DkPb']/span[2]\").text.replace(\",\",\"\").replace(\"₹\",\"\").strip())\n",
    "        feat_dictionary[\"price\"] = price\n",
    "    time.sleep(3)\n",
    "    data2 = driver.find_elements_by_xpath(\"//div[@class = '_24NRL']\")\n",
    "    data2_= [d.text for d in data2]\n",
    "    for key in keys:\n",
    "        for i in data2_:\n",
    "            if key in i:\n",
    "                feat_dictionary[key] = 1\n",
    "                if len(key)<len(i):\n",
    "                    i = i.replace(key,\"\").strip()\n",
    "                    if i in [\"Sound\", \"Blow By Back Compression\", \"Mounting\", \"Oil\",\"Mounted Audio Controls\"]:\n",
    "                        pass\n",
    "                    else:\n",
    "                        feat_dictionary[key] = 0\n",
    "    return feat_dictionary"
   ]
  },
  {
   "cell_type": "code",
   "execution_count": 10,
   "metadata": {},
   "outputs": [
    {
     "data": {
      "text/plain": [
       "{'Roof': 1,\n",
       " 'Bonnet/Hood': 1,\n",
       " 'Dicky Door/Boot Door': 1,\n",
       " 'Boot Floor': 1,\n",
       " 'Quarter Panel\\nLHS\\nRHS': 0,\n",
       " 'Fender\\nLHS\\nRHS': 1,\n",
       " 'Pillars\\nLHS B\\nLHS A\\nLHS C\\nRHS A\\nRHS B\\nRHS C': 0,\n",
       " 'Apron\\nLHS\\nRHS': 1,\n",
       " 'Firewall': 1,\n",
       " 'Cowl Top': 1,\n",
       " 'Bonnet Patti': 1,\n",
       " 'Lower Cross Member': 1,\n",
       " 'Radiator Support': 1,\n",
       " 'Head Light Support': 1,\n",
       " 'Running Border\\nLHS\\nRHS': 1,\n",
       " 'Doors\\nLHS Front\\nLHS Rear\\nRHS Rear\\nRHS Front': 0,\n",
       " 'Windshield\\nFront\\nRear': 1,\n",
       " 'Pillars\\nLHS A\\nLHS B\\nLHS C\\nRHS A\\nRHS B\\nRHS C': 0,\n",
       " 'Lights\\nLHS Taillight\\nRHS Taillight\\nLHS Headlight\\nRHS Headlight': 0,\n",
       " 'Bumpers\\nFront\\nRear': 1,\n",
       " 'ORVM- Manual/Electric\\nLHS\\nRHS': 1,\n",
       " 'Lights\\nLHS Fog Light\\nLHS Headlight\\nLHS Taillight\\nRHS Fog Light\\nRHS Headlight\\nRHS Taillight': 0,\n",
       " 'Tyre\\nLHS Front Tyre\\nRHS Front Tyre\\nLHS Rear Tyre\\nRHS Rear Tyre\\nSpare Tyre': 1,\n",
       " 'Engine': 1,\n",
       " 'Engine Sound': 1,\n",
       " 'Exhaust Smoke': 1,\n",
       " 'Engine Blow By Back Compression': 1,\n",
       " 'Engine Mounting': 1,\n",
       " 'Clutch': 1,\n",
       " 'Gear Shifting': 1,\n",
       " 'Engine Oil': 1,\n",
       " 'Battery': 1,\n",
       " 'Coolant': 1,\n",
       " 'AC Cooling': 1,\n",
       " 'Heater': 1,\n",
       " 'Music System': 1,\n",
       " 'Leather Seats': 0,\n",
       " 'Steering': 1,\n",
       " 'Suspension': 1,\n",
       " 'Brakes': 1,\n",
       " 'car_id': '1194483303',\n",
       " 'city': 'Kolkata',\n",
       " 'history': 'Non-Accidental',\n",
       " 'price': 449499,\n",
       " 'owner': 1,\n",
       " 'kilometers_driven': 29465,\n",
       " 'Fuel Type': 'Petrol',\n",
       " 'Transmission': 'MANUAL',\n",
       " 'insurance_type': 'Comp',\n",
       " 'insurance_valid_m': 'Jun',\n",
       " 'insurance_valid_y': '2022',\n",
       " 'Year of Purchase': '2015'}"
      ]
     },
     "execution_count": 10,
     "metadata": {},
     "output_type": "execute_result"
    }
   ],
   "source": [
    "# sample testing of function defined\n",
    "scrap(\"https://www.cars24.com/buy-used-Hyundai-Elite-i20-2015-cars-Kolkata-1194483303/\")"
   ]
  },
  {
   "cell_type": "code",
   "execution_count": 24,
   "metadata": {},
   "outputs": [],
   "source": [
    "import pandas as pd"
   ]
  },
  {
   "cell_type": "code",
   "execution_count": null,
   "metadata": {},
   "outputs": [],
   "source": [
    "#driver = webdriver.Chrome(\"chromedriver\")\n",
    "final_list = []\n",
    "for link in sample_link:\n",
    "    time.sleep(3)\n",
    "    try:\n",
    "        final_list.append(scrap(link))\n",
    "    except NoSuchWindowException:\n",
    "        driver = webdriver.Chrome(\"chromedriver\")\n",
    "        time.sleep(3)\n",
    "        final_list.append(scrap(link))"
   ]
  },
  {
   "cell_type": "code",
   "execution_count": null,
   "metadata": {},
   "outputs": [],
   "source": [
    "# creating scraped data as dataframe\n",
    "df = pd.DataFrame(final_list)\n",
    "#df.to_csv(\"df_set8.csv\")"
   ]
  }
 ],
 "metadata": {
  "kernelspec": {
   "display_name": "Python 3",
   "language": "python",
   "name": "python3"
  },
  "language_info": {
   "codemirror_mode": {
    "name": "ipython",
    "version": 3
   },
   "file_extension": ".py",
   "mimetype": "text/x-python",
   "name": "python",
   "nbconvert_exporter": "python",
   "pygments_lexer": "ipython3",
   "version": "3.7.3"
  }
 },
 "nbformat": 4,
 "nbformat_minor": 4
}
